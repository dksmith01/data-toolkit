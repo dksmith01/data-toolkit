{
 "cells": [
  {
   "cell_type": "markdown",
   "metadata": {
    "colab_type": "text",
    "id": "view-in-github"
   },
   "source": [
    "<a href=\"https://colab.research.google.com/github/theventurecity/data-toolkit/blob/master/Full_Pipeline.ipynb\" target=\"_parent\"><img src=\"https://colab.research.google.com/assets/colab-badge.svg\" alt=\"Open In Colab\"/></a>"
   ]
  },
  {
   "cell_type": "markdown",
   "metadata": {
    "colab_type": "text",
    "id": "OpetXnsuOL_r"
   },
   "source": [
    "<img src=\"https://github.com/theventurecity/data-toolkit/blob/master/img/tvc_horiz_junglegreen.png?raw=true\" alt='TheVentureCity' style=\"width: 400px;\">\n",
    "\n",
    "# Full Pipeline\n",
    "1. Extract raw event log data from a CSV\n",
    "1. Transform the raw data into analysis dataframes\n",
    "    - Growth Accounting\n",
    "    - Cohort Analysis\n",
    "    - Engagement\n",
    "1. Load the transformed data into Google Sheets \n",
    "1. Visualize insights in Google Data Studio\n",
    "\n",
    "## Before you begin\n",
    "\n",
    "- This notebook is shared in Google Colaboratory with read-only access. To run this notebook yourself, first click \"**Open in Playground**\" in the toolbar above. That will create a separate instance that you can run and/or save a copy of to your own Google Drive. \n",
    "\n",
    "- To run each cell, hit **Shift-Enter**, which will run the contents of the active cell and move to the next cell. This includes the markup cells (such as this one).\n",
    "\n",
    "- When you run the first block of Python code, you will get a message that says, \"**Warning: This notebook was not authored by Google.**\" Please be aware that we are **NOT** accessing your data shared with Google or reading data and credentials from other sessions. This notebook reads data from GitHub and writes to a Google Sheet that only you have access to and can control. We recommend you click the box to \"**Reset all runtimes before running**\" for extra information security."
   ]
  },
  {
   "cell_type": "markdown",
   "metadata": {
    "colab_type": "text",
    "id": "GHB2MNA2zwjo"
   },
   "source": [
    "## Import relevant Python libraries"
   ]
  },
  {
   "cell_type": "code",
   "execution_count": 1,
   "metadata": {
    "colab": {
     "base_uri": "https://localhost:8080/",
     "height": 137
    },
    "colab_type": "code",
    "id": "9-n5RAG2N9-Z",
    "outputId": "662700aa-c857-4915-884d-9f6466691037"
   },
   "outputs": [
    {
     "name": "stdout",
     "output_type": "stream",
     "text": [
      "Cloning into '/tmp/theventurecity'...\n",
      "remote: Enumerating objects: 157, done.\u001b[K\n",
      "remote: Counting objects: 100% (157/157), done.\u001b[K\n",
      "remote: Compressing objects: 100% (127/127), done.\u001b[K\n",
      "remote: Total 157 (delta 84), reused 84 (delta 29), pack-reused 0\u001b[K\n",
      "Receiving objects: 100% (157/157), 37.97 MiB | 17.65 MiB/s, done.\n",
      "Resolving deltas: 100% (84/84), done.\n"
     ]
    }
   ],
   "source": [
    "### Pandas to read the data from its source and manipulate it in memory\n",
    "import pandas as pd\n",
    "\n",
    "\n",
    "### The IPython.display library allows us to embed an iFrame within this \n",
    "### notebook\n",
    "from IPython.display import IFrame\n",
    "\n",
    "\n",
    "### To run this with functions from TheVentureCity's GitHub repository,\n",
    "### clone the repository to the Google Colaboratory runtime environment\n",
    "### and then import the code. This code allows us to run pre-existing functions \n",
    "### rather than having to define them inline within the notebook\n",
    "### THIS IS ONLY APPLICABLE IF YOU WANT TO ACCESS THOSE FUNCTIONS ###\n",
    "from importlib.machinery import SourceFileLoader\n",
    "!git clone https://github.com/theventurecity/data-toolkit.git /tmp/theventurecity\n",
    "!mv /tmp/theventurecity/python/tvc_transform.py tvc_transform.py\n",
    "!mv /tmp/theventurecity/python/tvc_load_colab.py tvc_load_colab.py\n",
    "!rm -r /tmp/theventurecity\n",
    "tvct = SourceFileLoader('tvc_transform', 'tvc_transform.py').load_module()\n",
    "tvcl = SourceFileLoader('tvc_load_colab', 'tvc_load_colab.py').load_module()"
   ]
  },
  {
   "cell_type": "markdown",
   "metadata": {
    "colab_type": "text",
    "id": "DHPavVhwwSMQ"
   },
   "source": [
    "## 1. Extract raw event log data from a CSV"
   ]
  },
  {
   "cell_type": "markdown",
   "metadata": {
    "colab_type": "text",
    "id": "jgo6Umpxw5I1"
   },
   "source": [
    "This example uses a data file for a sample company from our GitHub repository called ServBiz. In this step we read the data file into memory as a Pandas dataframe we name \"t.\""
   ]
  },
  {
   "cell_type": "code",
   "execution_count": 2,
   "metadata": {
    "colab": {
     "base_uri": "https://localhost:8080/",
     "height": 357
    },
    "colab_type": "code",
    "id": "v3KNCE2Sb3-S",
    "outputId": "6cc15bdf-78a7-4332-c887-84aa1b00c05c"
   },
   "outputs": [
    {
     "data": {
      "text/html": [
       "<div>\n",
       "<style scoped>\n",
       "    .dataframe tbody tr th:only-of-type {\n",
       "        vertical-align: middle;\n",
       "    }\n",
       "\n",
       "    .dataframe tbody tr th {\n",
       "        vertical-align: top;\n",
       "    }\n",
       "\n",
       "    .dataframe thead th {\n",
       "        text-align: right;\n",
       "    }\n",
       "</style>\n",
       "<table border=\"1\" class=\"dataframe\">\n",
       "  <thead>\n",
       "    <tr style=\"text-align: right;\">\n",
       "      <th></th>\n",
       "      <th>client_id</th>\n",
       "      <th>date</th>\n",
       "      <th>value_usd</th>\n",
       "      <th>segment</th>\n",
       "    </tr>\n",
       "  </thead>\n",
       "  <tbody>\n",
       "    <tr>\n",
       "      <th>420781</th>\n",
       "      <td>27902A</td>\n",
       "      <td>2019-02-28</td>\n",
       "      <td>8.75</td>\n",
       "      <td>Enterprise</td>\n",
       "    </tr>\n",
       "    <tr>\n",
       "      <th>420782</th>\n",
       "      <td>34181A</td>\n",
       "      <td>2019-02-28</td>\n",
       "      <td>18.97</td>\n",
       "      <td>SMB</td>\n",
       "    </tr>\n",
       "    <tr>\n",
       "      <th>420783</th>\n",
       "      <td>30168A</td>\n",
       "      <td>2019-02-28</td>\n",
       "      <td>17.73</td>\n",
       "      <td>SMB</td>\n",
       "    </tr>\n",
       "    <tr>\n",
       "      <th>420784</th>\n",
       "      <td>30844A</td>\n",
       "      <td>2019-02-28</td>\n",
       "      <td>19.98</td>\n",
       "      <td>SMB</td>\n",
       "    </tr>\n",
       "    <tr>\n",
       "      <th>420785</th>\n",
       "      <td>35815A</td>\n",
       "      <td>2019-02-28</td>\n",
       "      <td>17.98</td>\n",
       "      <td>SMB</td>\n",
       "    </tr>\n",
       "    <tr>\n",
       "      <th>420786</th>\n",
       "      <td>16958A</td>\n",
       "      <td>2019-02-28</td>\n",
       "      <td>17.45</td>\n",
       "      <td>SMB</td>\n",
       "    </tr>\n",
       "    <tr>\n",
       "      <th>420787</th>\n",
       "      <td>13090A</td>\n",
       "      <td>2019-02-28</td>\n",
       "      <td>13.48</td>\n",
       "      <td>SMB</td>\n",
       "    </tr>\n",
       "    <tr>\n",
       "      <th>420788</th>\n",
       "      <td>19162A</td>\n",
       "      <td>2019-02-28</td>\n",
       "      <td>13.64</td>\n",
       "      <td>Enterprise</td>\n",
       "    </tr>\n",
       "    <tr>\n",
       "      <th>420789</th>\n",
       "      <td>28409A</td>\n",
       "      <td>2019-02-28</td>\n",
       "      <td>14.72</td>\n",
       "      <td>SMB</td>\n",
       "    </tr>\n",
       "    <tr>\n",
       "      <th>420790</th>\n",
       "      <td>12080A</td>\n",
       "      <td>2019-02-28</td>\n",
       "      <td>18.32</td>\n",
       "      <td>SMB</td>\n",
       "    </tr>\n",
       "  </tbody>\n",
       "</table>\n",
       "</div>"
      ],
      "text/plain": [
       "       client_id        date  value_usd     segment\n",
       "420781    27902A  2019-02-28       8.75  Enterprise\n",
       "420782    34181A  2019-02-28      18.97         SMB\n",
       "420783    30168A  2019-02-28      17.73         SMB\n",
       "420784    30844A  2019-02-28      19.98         SMB\n",
       "420785    35815A  2019-02-28      17.98         SMB\n",
       "420786    16958A  2019-02-28      17.45         SMB\n",
       "420787    13090A  2019-02-28      13.48         SMB\n",
       "420788    19162A  2019-02-28      13.64  Enterprise\n",
       "420789    28409A  2019-02-28      14.72         SMB\n",
       "420790    12080A  2019-02-28      18.32         SMB"
      ]
     },
     "execution_count": 2,
     "metadata": {
      "tags": []
     },
     "output_type": "execute_result"
    }
   ],
   "source": [
    "filename = 'https://raw.githubusercontent.com/theventurecity/analytics/master/data/ServBiz_transactions.csv'\n",
    "t = pd.read_csv(filename)\n",
    "t.tail(10)"
   ]
  },
  {
   "cell_type": "markdown",
   "metadata": {
    "colab_type": "text",
    "id": "mmPD9Ws68xSD"
   },
   "source": [
    "## 2. Transform the raw data into analysis dataframes\n",
    "### 2.1 Create DAU Decorated and MAU Decorated \"building block\" dataframes\n",
    "**Note**: For a more detailed discussion about creating the DAU and DAU Decorated dataframes, complete with inline code, visit [Create the DAU Decorated Data Set](https://colab.research.google.com/drive/12uehG2EcIqxcTazKs-pNQRTQSckllOmE)\n",
    "#### 2.1.1 Create Daily Active Users (DAU) dataframe\n",
    "The **DAU** dataframe aggregates all activity by user and day. "
   ]
  },
  {
   "cell_type": "code",
   "execution_count": 3,
   "metadata": {
    "colab": {
     "base_uri": "https://localhost:8080/",
     "height": 357
    },
    "colab_type": "code",
    "id": "OvvX_fkKOmME",
    "outputId": "fed8995e-3edd-4a4e-d685-9fa87e82d431"
   },
   "outputs": [
    {
     "data": {
      "text/html": [
       "<div>\n",
       "<style scoped>\n",
       "    .dataframe tbody tr th:only-of-type {\n",
       "        vertical-align: middle;\n",
       "    }\n",
       "\n",
       "    .dataframe tbody tr th {\n",
       "        vertical-align: top;\n",
       "    }\n",
       "\n",
       "    .dataframe thead th {\n",
       "        text-align: right;\n",
       "    }\n",
       "</style>\n",
       "<table border=\"1\" class=\"dataframe\">\n",
       "  <thead>\n",
       "    <tr style=\"text-align: right;\">\n",
       "      <th></th>\n",
       "      <th>user_id</th>\n",
       "      <th>activity_date</th>\n",
       "      <th>segment</th>\n",
       "      <th>inc_amt</th>\n",
       "    </tr>\n",
       "  </thead>\n",
       "  <tbody>\n",
       "    <tr>\n",
       "      <th>0</th>\n",
       "      <td>10000A</td>\n",
       "      <td>2015-10-14</td>\n",
       "      <td>SMB</td>\n",
       "      <td>11.75</td>\n",
       "    </tr>\n",
       "    <tr>\n",
       "      <th>1</th>\n",
       "      <td>10001A</td>\n",
       "      <td>2015-10-14</td>\n",
       "      <td>SMB</td>\n",
       "      <td>13.75</td>\n",
       "    </tr>\n",
       "    <tr>\n",
       "      <th>2</th>\n",
       "      <td>10001A</td>\n",
       "      <td>2015-11-02</td>\n",
       "      <td>SMB</td>\n",
       "      <td>7.50</td>\n",
       "    </tr>\n",
       "    <tr>\n",
       "      <th>3</th>\n",
       "      <td>10001A</td>\n",
       "      <td>2015-11-22</td>\n",
       "      <td>SMB</td>\n",
       "      <td>18.00</td>\n",
       "    </tr>\n",
       "    <tr>\n",
       "      <th>4</th>\n",
       "      <td>10001A</td>\n",
       "      <td>2017-04-04</td>\n",
       "      <td>SMB</td>\n",
       "      <td>6.25</td>\n",
       "    </tr>\n",
       "    <tr>\n",
       "      <th>5</th>\n",
       "      <td>10001A</td>\n",
       "      <td>2017-12-08</td>\n",
       "      <td>SMB</td>\n",
       "      <td>8.75</td>\n",
       "    </tr>\n",
       "    <tr>\n",
       "      <th>6</th>\n",
       "      <td>10002A</td>\n",
       "      <td>2015-10-14</td>\n",
       "      <td>Enterprise</td>\n",
       "      <td>11.75</td>\n",
       "    </tr>\n",
       "    <tr>\n",
       "      <th>7</th>\n",
       "      <td>10002A</td>\n",
       "      <td>2015-10-26</td>\n",
       "      <td>Enterprise</td>\n",
       "      <td>12.25</td>\n",
       "    </tr>\n",
       "    <tr>\n",
       "      <th>8</th>\n",
       "      <td>10002A</td>\n",
       "      <td>2015-11-16</td>\n",
       "      <td>Enterprise</td>\n",
       "      <td>12.25</td>\n",
       "    </tr>\n",
       "    <tr>\n",
       "      <th>9</th>\n",
       "      <td>10002A</td>\n",
       "      <td>2015-11-23</td>\n",
       "      <td>Enterprise</td>\n",
       "      <td>12.25</td>\n",
       "    </tr>\n",
       "  </tbody>\n",
       "</table>\n",
       "</div>"
      ],
      "text/plain": [
       "  user_id activity_date     segment  inc_amt\n",
       "0  10000A    2015-10-14         SMB    11.75\n",
       "1  10001A    2015-10-14         SMB    13.75\n",
       "2  10001A    2015-11-02         SMB     7.50\n",
       "3  10001A    2015-11-22         SMB    18.00\n",
       "4  10001A    2017-04-04         SMB     6.25\n",
       "5  10001A    2017-12-08         SMB     8.75\n",
       "6  10002A    2015-10-14  Enterprise    11.75\n",
       "7  10002A    2015-10-26  Enterprise    12.25\n",
       "8  10002A    2015-11-16  Enterprise    12.25\n",
       "9  10002A    2015-11-23  Enterprise    12.25"
      ]
     },
     "execution_count": 3,
     "metadata": {
      "tags": []
     },
     "output_type": "execute_result"
    }
   ],
   "source": [
    "# Run the create_dau_df function and show the first ten rows of the resulting dataframe\n",
    "dau = tvct.create_dau_df(t, \n",
    "                         user_id = 'client_id', \n",
    "                         activity_date = 'date', \n",
    "                         inc_amt = 'value_usd',\n",
    "                         segment_col = 'segment'\n",
    "                        )\n",
    "dau.head(10)"
   ]
  },
  {
   "cell_type": "markdown",
   "metadata": {
    "colab_type": "text",
    "id": "tZvcQtB2Iqs5"
   },
   "source": [
    "#### 2.1.2 Calculate First Date and DAU Decorated dataframes\n",
    "The create_dau_decorated_df function calls the create_first_dt_df if no first_dt dataframe is specified"
   ]
  },
  {
   "cell_type": "code",
   "execution_count": 4,
   "metadata": {
    "colab": {
     "base_uri": "https://localhost:8080/",
     "height": 391
    },
    "colab_type": "code",
    "id": "n4bJEbKVGOtb",
    "outputId": "7de95548-a8e5-4b24-c649-f9e4f90e74cf"
   },
   "outputs": [
    {
     "name": "stdout",
     "output_type": "stream",
     "text": [
      "Creating DAU Decorated dataframe\n",
      "Creating first_dt dataframe\n"
     ]
    },
    {
     "data": {
      "text/html": [
       "<div>\n",
       "<style scoped>\n",
       "    .dataframe tbody tr th:only-of-type {\n",
       "        vertical-align: middle;\n",
       "    }\n",
       "\n",
       "    .dataframe tbody tr th {\n",
       "        vertical-align: top;\n",
       "    }\n",
       "\n",
       "    .dataframe thead th {\n",
       "        text-align: right;\n",
       "    }\n",
       "</style>\n",
       "<table border=\"1\" class=\"dataframe\">\n",
       "  <thead>\n",
       "    <tr style=\"text-align: right;\">\n",
       "      <th></th>\n",
       "      <th>user_id</th>\n",
       "      <th>activity_date</th>\n",
       "      <th>segment</th>\n",
       "      <th>inc_amt</th>\n",
       "      <th>first_dt</th>\n",
       "      <th>first_week</th>\n",
       "      <th>first_month</th>\n",
       "    </tr>\n",
       "  </thead>\n",
       "  <tbody>\n",
       "    <tr>\n",
       "      <th>0</th>\n",
       "      <td>10000A</td>\n",
       "      <td>2015-10-14</td>\n",
       "      <td>SMB</td>\n",
       "      <td>11.75</td>\n",
       "      <td>2015-10-14</td>\n",
       "      <td>2015-10-12/2015-10-18</td>\n",
       "      <td>2015-10</td>\n",
       "    </tr>\n",
       "    <tr>\n",
       "      <th>1</th>\n",
       "      <td>10001A</td>\n",
       "      <td>2015-10-14</td>\n",
       "      <td>SMB</td>\n",
       "      <td>13.75</td>\n",
       "      <td>2015-10-14</td>\n",
       "      <td>2015-10-12/2015-10-18</td>\n",
       "      <td>2015-10</td>\n",
       "    </tr>\n",
       "    <tr>\n",
       "      <th>2</th>\n",
       "      <td>10001A</td>\n",
       "      <td>2015-11-02</td>\n",
       "      <td>SMB</td>\n",
       "      <td>7.50</td>\n",
       "      <td>2015-10-14</td>\n",
       "      <td>2015-10-12/2015-10-18</td>\n",
       "      <td>2015-10</td>\n",
       "    </tr>\n",
       "    <tr>\n",
       "      <th>3</th>\n",
       "      <td>10001A</td>\n",
       "      <td>2015-11-22</td>\n",
       "      <td>SMB</td>\n",
       "      <td>18.00</td>\n",
       "      <td>2015-10-14</td>\n",
       "      <td>2015-10-12/2015-10-18</td>\n",
       "      <td>2015-10</td>\n",
       "    </tr>\n",
       "    <tr>\n",
       "      <th>4</th>\n",
       "      <td>10001A</td>\n",
       "      <td>2017-04-04</td>\n",
       "      <td>SMB</td>\n",
       "      <td>6.25</td>\n",
       "      <td>2015-10-14</td>\n",
       "      <td>2015-10-12/2015-10-18</td>\n",
       "      <td>2015-10</td>\n",
       "    </tr>\n",
       "    <tr>\n",
       "      <th>5</th>\n",
       "      <td>10001A</td>\n",
       "      <td>2017-12-08</td>\n",
       "      <td>SMB</td>\n",
       "      <td>8.75</td>\n",
       "      <td>2015-10-14</td>\n",
       "      <td>2015-10-12/2015-10-18</td>\n",
       "      <td>2015-10</td>\n",
       "    </tr>\n",
       "    <tr>\n",
       "      <th>6</th>\n",
       "      <td>10002A</td>\n",
       "      <td>2015-10-14</td>\n",
       "      <td>Enterprise</td>\n",
       "      <td>11.75</td>\n",
       "      <td>2015-10-14</td>\n",
       "      <td>2015-10-12/2015-10-18</td>\n",
       "      <td>2015-10</td>\n",
       "    </tr>\n",
       "    <tr>\n",
       "      <th>7</th>\n",
       "      <td>10002A</td>\n",
       "      <td>2015-10-26</td>\n",
       "      <td>Enterprise</td>\n",
       "      <td>12.25</td>\n",
       "      <td>2015-10-14</td>\n",
       "      <td>2015-10-12/2015-10-18</td>\n",
       "      <td>2015-10</td>\n",
       "    </tr>\n",
       "    <tr>\n",
       "      <th>8</th>\n",
       "      <td>10002A</td>\n",
       "      <td>2015-11-16</td>\n",
       "      <td>Enterprise</td>\n",
       "      <td>12.25</td>\n",
       "      <td>2015-10-14</td>\n",
       "      <td>2015-10-12/2015-10-18</td>\n",
       "      <td>2015-10</td>\n",
       "    </tr>\n",
       "    <tr>\n",
       "      <th>9</th>\n",
       "      <td>10002A</td>\n",
       "      <td>2015-11-23</td>\n",
       "      <td>Enterprise</td>\n",
       "      <td>12.25</td>\n",
       "      <td>2015-10-14</td>\n",
       "      <td>2015-10-12/2015-10-18</td>\n",
       "      <td>2015-10</td>\n",
       "    </tr>\n",
       "  </tbody>\n",
       "</table>\n",
       "</div>"
      ],
      "text/plain": [
       "  user_id activity_date     segment  inc_amt    first_dt  \\\n",
       "0  10000A    2015-10-14         SMB    11.75  2015-10-14   \n",
       "1  10001A    2015-10-14         SMB    13.75  2015-10-14   \n",
       "2  10001A    2015-11-02         SMB     7.50  2015-10-14   \n",
       "3  10001A    2015-11-22         SMB    18.00  2015-10-14   \n",
       "4  10001A    2017-04-04         SMB     6.25  2015-10-14   \n",
       "5  10001A    2017-12-08         SMB     8.75  2015-10-14   \n",
       "6  10002A    2015-10-14  Enterprise    11.75  2015-10-14   \n",
       "7  10002A    2015-10-26  Enterprise    12.25  2015-10-14   \n",
       "8  10002A    2015-11-16  Enterprise    12.25  2015-10-14   \n",
       "9  10002A    2015-11-23  Enterprise    12.25  2015-10-14   \n",
       "\n",
       "             first_week first_month  \n",
       "0 2015-10-12/2015-10-18     2015-10  \n",
       "1 2015-10-12/2015-10-18     2015-10  \n",
       "2 2015-10-12/2015-10-18     2015-10  \n",
       "3 2015-10-12/2015-10-18     2015-10  \n",
       "4 2015-10-12/2015-10-18     2015-10  \n",
       "5 2015-10-12/2015-10-18     2015-10  \n",
       "6 2015-10-12/2015-10-18     2015-10  \n",
       "7 2015-10-12/2015-10-18     2015-10  \n",
       "8 2015-10-12/2015-10-18     2015-10  \n",
       "9 2015-10-12/2015-10-18     2015-10  "
      ]
     },
     "execution_count": 4,
     "metadata": {
      "tags": []
     },
     "output_type": "execute_result"
    }
   ],
   "source": [
    "# Run the create_dau_decorated_df function and show the first ten rows of the resulting dataframe\n",
    "dau_decorated = tvct.create_dau_decorated_df(dau)\n",
    "dau_decorated.head(10)"
   ]
  },
  {
   "cell_type": "markdown",
   "metadata": {
    "colab_type": "text",
    "id": "JyYfAz4RxU6O"
   },
   "source": [
    "Combining the basic DAU data with the first date, week, and month for each user, **the DAU Decorated dataframe is our basic building block for many different analyses**. It allows us to use user-level data to inspect engagement, retention, and growth accounting.\n",
    "#### 2.1.3 Calculate MAU Decorated dataframe"
   ]
  },
  {
   "cell_type": "code",
   "execution_count": 5,
   "metadata": {
    "colab": {
     "base_uri": "https://localhost:8080/",
     "height": 374
    },
    "colab_type": "code",
    "id": "tu0SyAaIF-tu",
    "outputId": "c7f32448-99ee-46a1-8797-bb7eefc46e3b"
   },
   "outputs": [
    {
     "name": "stdout",
     "output_type": "stream",
     "text": [
      "Creating Monthly Active Users Decorated dataframe\n"
     ]
    },
    {
     "data": {
      "text/html": [
       "<div>\n",
       "<style scoped>\n",
       "    .dataframe tbody tr th:only-of-type {\n",
       "        vertical-align: middle;\n",
       "    }\n",
       "\n",
       "    .dataframe tbody tr th {\n",
       "        vertical-align: top;\n",
       "    }\n",
       "\n",
       "    .dataframe thead th {\n",
       "        text-align: right;\n",
       "    }\n",
       "</style>\n",
       "<table border=\"1\" class=\"dataframe\">\n",
       "  <thead>\n",
       "    <tr style=\"text-align: right;\">\n",
       "      <th></th>\n",
       "      <th>Month_Year</th>\n",
       "      <th>user_id</th>\n",
       "      <th>inc_amt</th>\n",
       "      <th>first_month</th>\n",
       "      <th>Next_Month_Year</th>\n",
       "    </tr>\n",
       "  </thead>\n",
       "  <tbody>\n",
       "    <tr>\n",
       "      <th>93658</th>\n",
       "      <td>2019-02</td>\n",
       "      <td>9784A</td>\n",
       "      <td>533.66</td>\n",
       "      <td>2015-09</td>\n",
       "      <td>2019-03</td>\n",
       "    </tr>\n",
       "    <tr>\n",
       "      <th>93659</th>\n",
       "      <td>2019-02</td>\n",
       "      <td>9794A</td>\n",
       "      <td>24.72</td>\n",
       "      <td>2015-09</td>\n",
       "      <td>2019-03</td>\n",
       "    </tr>\n",
       "    <tr>\n",
       "      <th>93660</th>\n",
       "      <td>2019-02</td>\n",
       "      <td>9808A</td>\n",
       "      <td>85.12</td>\n",
       "      <td>2015-09</td>\n",
       "      <td>2019-03</td>\n",
       "    </tr>\n",
       "    <tr>\n",
       "      <th>93661</th>\n",
       "      <td>2019-02</td>\n",
       "      <td>9868A</td>\n",
       "      <td>65.75</td>\n",
       "      <td>2015-10</td>\n",
       "      <td>2019-03</td>\n",
       "    </tr>\n",
       "    <tr>\n",
       "      <th>93662</th>\n",
       "      <td>2019-02</td>\n",
       "      <td>9876A</td>\n",
       "      <td>19.48</td>\n",
       "      <td>2015-10</td>\n",
       "      <td>2019-03</td>\n",
       "    </tr>\n",
       "    <tr>\n",
       "      <th>93663</th>\n",
       "      <td>2019-02</td>\n",
       "      <td>9902A</td>\n",
       "      <td>39.76</td>\n",
       "      <td>2015-10</td>\n",
       "      <td>2019-03</td>\n",
       "    </tr>\n",
       "    <tr>\n",
       "      <th>93664</th>\n",
       "      <td>2019-02</td>\n",
       "      <td>9952A</td>\n",
       "      <td>53.50</td>\n",
       "      <td>2015-10</td>\n",
       "      <td>2019-03</td>\n",
       "    </tr>\n",
       "    <tr>\n",
       "      <th>93665</th>\n",
       "      <td>2019-02</td>\n",
       "      <td>9986A</td>\n",
       "      <td>116.64</td>\n",
       "      <td>2015-10</td>\n",
       "      <td>2019-03</td>\n",
       "    </tr>\n",
       "    <tr>\n",
       "      <th>93666</th>\n",
       "      <td>2019-02</td>\n",
       "      <td>9989A</td>\n",
       "      <td>21.28</td>\n",
       "      <td>2015-10</td>\n",
       "      <td>2019-03</td>\n",
       "    </tr>\n",
       "    <tr>\n",
       "      <th>93667</th>\n",
       "      <td>2019-02</td>\n",
       "      <td>9995A</td>\n",
       "      <td>85.12</td>\n",
       "      <td>2015-10</td>\n",
       "      <td>2019-03</td>\n",
       "    </tr>\n",
       "  </tbody>\n",
       "</table>\n",
       "</div>"
      ],
      "text/plain": [
       "      Month_Year user_id  inc_amt first_month Next_Month_Year\n",
       "93658    2019-02   9784A   533.66     2015-09         2019-03\n",
       "93659    2019-02   9794A    24.72     2015-09         2019-03\n",
       "93660    2019-02   9808A    85.12     2015-09         2019-03\n",
       "93661    2019-02   9868A    65.75     2015-10         2019-03\n",
       "93662    2019-02   9876A    19.48     2015-10         2019-03\n",
       "93663    2019-02   9902A    39.76     2015-10         2019-03\n",
       "93664    2019-02   9952A    53.50     2015-10         2019-03\n",
       "93665    2019-02   9986A   116.64     2015-10         2019-03\n",
       "93666    2019-02   9989A    21.28     2015-10         2019-03\n",
       "93667    2019-02   9995A    85.12     2015-10         2019-03"
      ]
     },
     "execution_count": 5,
     "metadata": {
      "tags": []
     },
     "output_type": "execute_result"
    }
   ],
   "source": [
    "# Run create_xau_decorated_df for MAU's (using 'month'), unsegmented\n",
    "mau_decorated = tvct.create_xau_decorated_df(dau_decorated, 'month', use_segment=False)\n",
    "mau_decorated.tail(10)"
   ]
  },
  {
   "cell_type": "markdown",
   "metadata": {
    "colab_type": "text",
    "id": "puWQSqB1rNEk"
   },
   "source": [
    "### 2.2 Transform into a Growth Accounting analysis dataframe\n",
    "**Note**: The function called in this section is different than what appears in the [Mini-Pipeline: Growth Accounting](https://colab.research.google.com/drive/1moHa4Mcycwsz7Fq6T_5Zou1Zunt0afiI), which was condensed for brevity. The resultant dataset is therefore adjusted to write only the relevant columns to Google Sheets."
   ]
  },
  {
   "cell_type": "code",
   "execution_count": 6,
   "metadata": {
    "colab": {
     "base_uri": "https://localhost:8080/",
     "height": 374
    },
    "colab_type": "code",
    "id": "fUe7oO_2rfTz",
    "outputId": "cf62a04f-5e74-4fe6-ee9e-171169d439d5"
   },
   "outputs": [
    {
     "name": "stdout",
     "output_type": "stream",
     "text": [
      "Creating Growth Accounting dataframes\n"
     ]
    },
    {
     "data": {
      "text/html": [
       "<div>\n",
       "<style scoped>\n",
       "    .dataframe tbody tr th:only-of-type {\n",
       "        vertical-align: middle;\n",
       "    }\n",
       "\n",
       "    .dataframe tbody tr th {\n",
       "        vertical-align: top;\n",
       "    }\n",
       "\n",
       "    .dataframe thead th {\n",
       "        text-align: right;\n",
       "    }\n",
       "</style>\n",
       "<table border=\"1\" class=\"dataframe\">\n",
       "  <thead>\n",
       "    <tr style=\"text-align: right;\">\n",
       "      <th></th>\n",
       "      <th>Month_Year</th>\n",
       "      <th>Monthly Active Users</th>\n",
       "      <th>Retained Users</th>\n",
       "      <th>New Users</th>\n",
       "      <th>Resurrected Users</th>\n",
       "      <th>Churned Users</th>\n",
       "      <th>segment</th>\n",
       "      <th>Users BOP</th>\n",
       "      <th>MoM User Retention</th>\n",
       "      <th>User Quick Ratio</th>\n",
       "      <th>User CMGR12</th>\n",
       "      <th>Growth Threshold</th>\n",
       "      <th>User CMGR12 Target</th>\n",
       "    </tr>\n",
       "  </thead>\n",
       "  <tbody>\n",
       "    <tr>\n",
       "      <th>36</th>\n",
       "      <td>2018-05</td>\n",
       "      <td>3253</td>\n",
       "      <td>2507</td>\n",
       "      <td>441</td>\n",
       "      <td>305</td>\n",
       "      <td>-571</td>\n",
       "      <td>All</td>\n",
       "      <td>3078.0</td>\n",
       "      <td>0.814490</td>\n",
       "      <td>1.306480</td>\n",
       "      <td>0.032119</td>\n",
       "      <td>1.0</td>\n",
       "      <td>0.1</td>\n",
       "    </tr>\n",
       "    <tr>\n",
       "      <th>37</th>\n",
       "      <td>2018-06</td>\n",
       "      <td>3183</td>\n",
       "      <td>2626</td>\n",
       "      <td>340</td>\n",
       "      <td>217</td>\n",
       "      <td>-627</td>\n",
       "      <td>All</td>\n",
       "      <td>3253.0</td>\n",
       "      <td>0.807255</td>\n",
       "      <td>0.888357</td>\n",
       "      <td>0.025316</td>\n",
       "      <td>1.0</td>\n",
       "      <td>0.1</td>\n",
       "    </tr>\n",
       "    <tr>\n",
       "      <th>38</th>\n",
       "      <td>2018-07</td>\n",
       "      <td>3377</td>\n",
       "      <td>2691</td>\n",
       "      <td>386</td>\n",
       "      <td>300</td>\n",
       "      <td>-492</td>\n",
       "      <td>All</td>\n",
       "      <td>3183.0</td>\n",
       "      <td>0.845429</td>\n",
       "      <td>1.394309</td>\n",
       "      <td>0.033163</td>\n",
       "      <td>1.0</td>\n",
       "      <td>0.1</td>\n",
       "    </tr>\n",
       "    <tr>\n",
       "      <th>39</th>\n",
       "      <td>2018-08</td>\n",
       "      <td>3570</td>\n",
       "      <td>2835</td>\n",
       "      <td>453</td>\n",
       "      <td>282</td>\n",
       "      <td>-542</td>\n",
       "      <td>All</td>\n",
       "      <td>3377.0</td>\n",
       "      <td>0.839503</td>\n",
       "      <td>1.356089</td>\n",
       "      <td>0.036383</td>\n",
       "      <td>1.0</td>\n",
       "      <td>0.1</td>\n",
       "    </tr>\n",
       "    <tr>\n",
       "      <th>40</th>\n",
       "      <td>2018-09</td>\n",
       "      <td>3561</td>\n",
       "      <td>2947</td>\n",
       "      <td>383</td>\n",
       "      <td>231</td>\n",
       "      <td>-623</td>\n",
       "      <td>All</td>\n",
       "      <td>3570.0</td>\n",
       "      <td>0.825490</td>\n",
       "      <td>0.985554</td>\n",
       "      <td>0.036500</td>\n",
       "      <td>1.0</td>\n",
       "      <td>0.1</td>\n",
       "    </tr>\n",
       "    <tr>\n",
       "      <th>41</th>\n",
       "      <td>2018-10</td>\n",
       "      <td>3972</td>\n",
       "      <td>3034</td>\n",
       "      <td>581</td>\n",
       "      <td>357</td>\n",
       "      <td>-527</td>\n",
       "      <td>All</td>\n",
       "      <td>3561.0</td>\n",
       "      <td>0.852008</td>\n",
       "      <td>1.779886</td>\n",
       "      <td>0.038371</td>\n",
       "      <td>1.0</td>\n",
       "      <td>0.1</td>\n",
       "    </tr>\n",
       "    <tr>\n",
       "      <th>42</th>\n",
       "      <td>2018-11</td>\n",
       "      <td>4102</td>\n",
       "      <td>3307</td>\n",
       "      <td>518</td>\n",
       "      <td>277</td>\n",
       "      <td>-665</td>\n",
       "      <td>All</td>\n",
       "      <td>3972.0</td>\n",
       "      <td>0.832578</td>\n",
       "      <td>1.195489</td>\n",
       "      <td>0.036690</td>\n",
       "      <td>1.0</td>\n",
       "      <td>0.1</td>\n",
       "    </tr>\n",
       "    <tr>\n",
       "      <th>43</th>\n",
       "      <td>2018-12</td>\n",
       "      <td>4522</td>\n",
       "      <td>3482</td>\n",
       "      <td>740</td>\n",
       "      <td>300</td>\n",
       "      <td>-620</td>\n",
       "      <td>All</td>\n",
       "      <td>4102.0</td>\n",
       "      <td>0.848854</td>\n",
       "      <td>1.677419</td>\n",
       "      <td>0.042951</td>\n",
       "      <td>1.0</td>\n",
       "      <td>0.1</td>\n",
       "    </tr>\n",
       "    <tr>\n",
       "      <th>44</th>\n",
       "      <td>2019-01</td>\n",
       "      <td>4689</td>\n",
       "      <td>3811</td>\n",
       "      <td>583</td>\n",
       "      <td>295</td>\n",
       "      <td>-711</td>\n",
       "      <td>All</td>\n",
       "      <td>4522.0</td>\n",
       "      <td>0.842769</td>\n",
       "      <td>1.234880</td>\n",
       "      <td>0.040467</td>\n",
       "      <td>1.0</td>\n",
       "      <td>0.1</td>\n",
       "    </tr>\n",
       "    <tr>\n",
       "      <th>45</th>\n",
       "      <td>2019-02</td>\n",
       "      <td>4657</td>\n",
       "      <td>3865</td>\n",
       "      <td>537</td>\n",
       "      <td>255</td>\n",
       "      <td>-824</td>\n",
       "      <td>All</td>\n",
       "      <td>4689.0</td>\n",
       "      <td>0.824270</td>\n",
       "      <td>0.961165</td>\n",
       "      <td>0.038370</td>\n",
       "      <td>1.0</td>\n",
       "      <td>0.1</td>\n",
       "    </tr>\n",
       "  </tbody>\n",
       "</table>\n",
       "</div>"
      ],
      "text/plain": [
       "   Month_Year  Monthly Active Users  Retained Users  New Users  \\\n",
       "36    2018-05                  3253            2507        441   \n",
       "37    2018-06                  3183            2626        340   \n",
       "38    2018-07                  3377            2691        386   \n",
       "39    2018-08                  3570            2835        453   \n",
       "40    2018-09                  3561            2947        383   \n",
       "41    2018-10                  3972            3034        581   \n",
       "42    2018-11                  4102            3307        518   \n",
       "43    2018-12                  4522            3482        740   \n",
       "44    2019-01                  4689            3811        583   \n",
       "45    2019-02                  4657            3865        537   \n",
       "\n",
       "    Resurrected Users  Churned Users segment  Users BOP  MoM User Retention  \\\n",
       "36                305           -571     All     3078.0            0.814490   \n",
       "37                217           -627     All     3253.0            0.807255   \n",
       "38                300           -492     All     3183.0            0.845429   \n",
       "39                282           -542     All     3377.0            0.839503   \n",
       "40                231           -623     All     3570.0            0.825490   \n",
       "41                357           -527     All     3561.0            0.852008   \n",
       "42                277           -665     All     3972.0            0.832578   \n",
       "43                300           -620     All     4102.0            0.848854   \n",
       "44                295           -711     All     4522.0            0.842769   \n",
       "45                255           -824     All     4689.0            0.824270   \n",
       "\n",
       "    User Quick Ratio  User CMGR12  Growth Threshold  User CMGR12 Target  \n",
       "36          1.306480     0.032119               1.0                 0.1  \n",
       "37          0.888357     0.025316               1.0                 0.1  \n",
       "38          1.394309     0.033163               1.0                 0.1  \n",
       "39          1.356089     0.036383               1.0                 0.1  \n",
       "40          0.985554     0.036500               1.0                 0.1  \n",
       "41          1.779886     0.038371               1.0                 0.1  \n",
       "42          1.195489     0.036690               1.0                 0.1  \n",
       "43          1.677419     0.042951               1.0                 0.1  \n",
       "44          1.234880     0.040467               1.0                 0.1  \n",
       "45          0.961165     0.038370               1.0                 0.1  "
      ]
     },
     "execution_count": 6,
     "metadata": {
      "tags": []
     },
     "output_type": "execute_result"
    }
   ],
   "source": [
    "TIME_PER = 'month'\n",
    "USE_SEGMENT = False\n",
    "KEEP_LAST_PER = True\n",
    "DATE_LIMIT = None\n",
    "INCL_ZERO_INC = False\n",
    "\n",
    "user_ga, rev_ga = tvct.create_growth_accounting_dfs(mau_decorated, \n",
    "                                                    time_period=TIME_PER, \n",
    "                                                    use_segment=USE_SEGMENT, \n",
    "                                                    keep_last_period=KEEP_LAST_PER, \n",
    "                                                    date_limit=DATE_LIMIT, \n",
    "                                                    include_zero_inc=INCL_ZERO_INC)\n",
    "user_ga_with_ratios = tvct.calc_user_ga_ratios(user_ga, \n",
    "                                               time_period=TIME_PER, \n",
    "                                               use_segment=USE_SEGMENT, \n",
    "                                               growth_rate_periods=12)\n",
    "user_ga_with_ratios.tail(10)"
   ]
  },
  {
   "cell_type": "markdown",
   "metadata": {
    "colab_type": "text",
    "id": "QUE6-mUcFnek"
   },
   "source": [
    "### 2.3 Transform into a Cohort Analysis dataframe\n",
    "Create the MAU Cohorts dataframe, using MAU Decorated as an input"
   ]
  },
  {
   "cell_type": "code",
   "execution_count": 7,
   "metadata": {
    "colab": {
     "base_uri": "https://localhost:8080/",
     "height": 357
    },
    "colab_type": "code",
    "id": "0TFUUNVUFmnn",
    "outputId": "43173a41-9bf4-47db-cd54-14a98fb9a423"
   },
   "outputs": [
    {
     "data": {
      "text/html": [
       "<div>\n",
       "<style scoped>\n",
       "    .dataframe tbody tr th:only-of-type {\n",
       "        vertical-align: middle;\n",
       "    }\n",
       "\n",
       "    .dataframe tbody tr th {\n",
       "        vertical-align: top;\n",
       "    }\n",
       "\n",
       "    .dataframe thead th {\n",
       "        text-align: right;\n",
       "    }\n",
       "</style>\n",
       "<table border=\"1\" class=\"dataframe\">\n",
       "  <thead>\n",
       "    <tr style=\"text-align: right;\">\n",
       "      <th></th>\n",
       "      <th>first_month</th>\n",
       "      <th>Month_Year</th>\n",
       "      <th>Months Since First</th>\n",
       "      <th>inc_amt</th>\n",
       "      <th>cust_ct</th>\n",
       "      <th>cohort_cust_ct</th>\n",
       "      <th>cum_inc_amt</th>\n",
       "      <th>cum_inc_per_cohort_cust</th>\n",
       "      <th>cust_ret_pct</th>\n",
       "    </tr>\n",
       "  </thead>\n",
       "  <tbody>\n",
       "    <tr>\n",
       "      <th>1071</th>\n",
       "      <td>2018-11</td>\n",
       "      <td>2018-11</td>\n",
       "      <td>0</td>\n",
       "      <td>17178.12</td>\n",
       "      <td>518</td>\n",
       "      <td>518</td>\n",
       "      <td>17178.12</td>\n",
       "      <td>33.162394</td>\n",
       "      <td>1.000000</td>\n",
       "    </tr>\n",
       "    <tr>\n",
       "      <th>1072</th>\n",
       "      <td>2018-11</td>\n",
       "      <td>2018-12</td>\n",
       "      <td>1</td>\n",
       "      <td>20136.67</td>\n",
       "      <td>356</td>\n",
       "      <td>518</td>\n",
       "      <td>37314.79</td>\n",
       "      <td>72.036274</td>\n",
       "      <td>0.687259</td>\n",
       "    </tr>\n",
       "    <tr>\n",
       "      <th>1073</th>\n",
       "      <td>2018-11</td>\n",
       "      <td>2019-01</td>\n",
       "      <td>2</td>\n",
       "      <td>18325.46</td>\n",
       "      <td>300</td>\n",
       "      <td>518</td>\n",
       "      <td>55640.25</td>\n",
       "      <td>107.413610</td>\n",
       "      <td>0.579151</td>\n",
       "    </tr>\n",
       "    <tr>\n",
       "      <th>1074</th>\n",
       "      <td>2018-11</td>\n",
       "      <td>2019-02</td>\n",
       "      <td>3</td>\n",
       "      <td>14171.36</td>\n",
       "      <td>263</td>\n",
       "      <td>518</td>\n",
       "      <td>69811.61</td>\n",
       "      <td>134.771448</td>\n",
       "      <td>0.507722</td>\n",
       "    </tr>\n",
       "    <tr>\n",
       "      <th>1075</th>\n",
       "      <td>2018-12</td>\n",
       "      <td>2018-12</td>\n",
       "      <td>0</td>\n",
       "      <td>26134.01</td>\n",
       "      <td>740</td>\n",
       "      <td>740</td>\n",
       "      <td>26134.01</td>\n",
       "      <td>35.316230</td>\n",
       "      <td>1.000000</td>\n",
       "    </tr>\n",
       "    <tr>\n",
       "      <th>1076</th>\n",
       "      <td>2018-12</td>\n",
       "      <td>2019-01</td>\n",
       "      <td>1</td>\n",
       "      <td>31004.43</td>\n",
       "      <td>497</td>\n",
       "      <td>740</td>\n",
       "      <td>57138.44</td>\n",
       "      <td>77.214108</td>\n",
       "      <td>0.671622</td>\n",
       "    </tr>\n",
       "    <tr>\n",
       "      <th>1077</th>\n",
       "      <td>2018-12</td>\n",
       "      <td>2019-02</td>\n",
       "      <td>2</td>\n",
       "      <td>22879.87</td>\n",
       "      <td>379</td>\n",
       "      <td>740</td>\n",
       "      <td>80018.31</td>\n",
       "      <td>108.132851</td>\n",
       "      <td>0.512162</td>\n",
       "    </tr>\n",
       "    <tr>\n",
       "      <th>1078</th>\n",
       "      <td>2019-01</td>\n",
       "      <td>2019-01</td>\n",
       "      <td>0</td>\n",
       "      <td>20557.47</td>\n",
       "      <td>583</td>\n",
       "      <td>583</td>\n",
       "      <td>20557.47</td>\n",
       "      <td>35.261527</td>\n",
       "      <td>1.000000</td>\n",
       "    </tr>\n",
       "    <tr>\n",
       "      <th>1079</th>\n",
       "      <td>2019-01</td>\n",
       "      <td>2019-02</td>\n",
       "      <td>1</td>\n",
       "      <td>21454.77</td>\n",
       "      <td>388</td>\n",
       "      <td>583</td>\n",
       "      <td>42012.24</td>\n",
       "      <td>72.062161</td>\n",
       "      <td>0.665523</td>\n",
       "    </tr>\n",
       "    <tr>\n",
       "      <th>1080</th>\n",
       "      <td>2019-02</td>\n",
       "      <td>2019-02</td>\n",
       "      <td>0</td>\n",
       "      <td>17109.64</td>\n",
       "      <td>537</td>\n",
       "      <td>537</td>\n",
       "      <td>17109.64</td>\n",
       "      <td>31.861527</td>\n",
       "      <td>1.000000</td>\n",
       "    </tr>\n",
       "  </tbody>\n",
       "</table>\n",
       "</div>"
      ],
      "text/plain": [
       "     first_month Month_Year  Months Since First   inc_amt  cust_ct  \\\n",
       "1071     2018-11    2018-11                   0  17178.12      518   \n",
       "1072     2018-11    2018-12                   1  20136.67      356   \n",
       "1073     2018-11    2019-01                   2  18325.46      300   \n",
       "1074     2018-11    2019-02                   3  14171.36      263   \n",
       "1075     2018-12    2018-12                   0  26134.01      740   \n",
       "1076     2018-12    2019-01                   1  31004.43      497   \n",
       "1077     2018-12    2019-02                   2  22879.87      379   \n",
       "1078     2019-01    2019-01                   0  20557.47      583   \n",
       "1079     2019-01    2019-02                   1  21454.77      388   \n",
       "1080     2019-02    2019-02                   0  17109.64      537   \n",
       "\n",
       "      cohort_cust_ct  cum_inc_amt  cum_inc_per_cohort_cust  cust_ret_pct  \n",
       "1071             518     17178.12                33.162394      1.000000  \n",
       "1072             518     37314.79                72.036274      0.687259  \n",
       "1073             518     55640.25               107.413610      0.579151  \n",
       "1074             518     69811.61               134.771448      0.507722  \n",
       "1075             740     26134.01                35.316230      1.000000  \n",
       "1076             740     57138.44                77.214108      0.671622  \n",
       "1077             740     80018.31               108.132851      0.512162  \n",
       "1078             583     20557.47                35.261527      1.000000  \n",
       "1079             583     42012.24                72.062161      0.665523  \n",
       "1080             537     17109.64                31.861527      1.000000  "
      ]
     },
     "execution_count": 7,
     "metadata": {
      "tags": []
     },
     "output_type": "execute_result"
    }
   ],
   "source": [
    "mau_cohorts = tvct.create_xau_cohort_df(mau_decorated, 'month')\n",
    "mau_cohorts.tail(10)"
   ]
  },
  {
   "cell_type": "markdown",
   "metadata": {
    "colab_type": "text",
    "id": "qMamw7zZ6xd4"
   },
   "source": [
    "### 2.4. Transform into Engagement dataframes\n",
    "#### 2.4.1 Calculate User Periodic Usage\n",
    "Now that we have the \"DAU Decorated\" data frame, we can use it to calculate engagement metrics since they are super-important for an early-stage startup. The **calc_user_periodic_usage** function below calculates the number of active days for each user in a 28-day window of time. It outputs a dataframes that holds the active day count for every user, sorted by their inc_amt."
   ]
  },
  {
   "cell_type": "code",
   "execution_count": 0,
   "metadata": {
    "colab": {},
    "colab_type": "code",
    "id": "fEUKRYWiw6gT"
   },
   "outputs": [],
   "source": [
    "### Run calc_user_periodic_usage and display the first 10 rows\n",
    "#user_daily_usage = tvct.calc_user_periodic_usage(dau_decorated, \n",
    "#                                            'day', \n",
    "#                                            dau_decorated['activity_date'].max(), \n",
    "#                                            window_days=28, \n",
    "#                                            breakouts=[2, 4], \n",
    "#                                            use_segment=False\n",
    "#                                           )\n",
    "#user_daily_usage.head(10)"
   ]
  },
  {
   "cell_type": "markdown",
   "metadata": {
    "colab_type": "text",
    "id": "gec105JjXBQh"
   },
   "source": [
    "The calc_user_periodic_usage function above serves as a key helper function for the functions below that summarize its data into the data that will be used for the visualizations.\n",
    "\n",
    "#### 2.4.2 Calculate the DAU Histogram\n",
    "The DAU histogram puts each user into a bin according to the number of active days they have in the 28-day window. It outputs the user count in each bin and also counts the average number of days active across all users during the window."
   ]
  },
  {
   "cell_type": "code",
   "execution_count": 9,
   "metadata": {
    "colab": {
     "base_uri": "https://localhost:8080/",
     "height": 912
    },
    "colab_type": "code",
    "id": "ttxkIZhgxhpd",
    "outputId": "115dac90-7120-49d1-95b9-adcc0892966e"
   },
   "outputs": [
    {
     "data": {
      "text/html": [
       "<div>\n",
       "<style scoped>\n",
       "    .dataframe tbody tr th:only-of-type {\n",
       "        vertical-align: middle;\n",
       "    }\n",
       "\n",
       "    .dataframe tbody tr th {\n",
       "        vertical-align: top;\n",
       "    }\n",
       "\n",
       "    .dataframe thead th {\n",
       "        text-align: right;\n",
       "    }\n",
       "</style>\n",
       "<table border=\"1\" class=\"dataframe\">\n",
       "  <thead>\n",
       "    <tr style=\"text-align: right;\">\n",
       "      <th></th>\n",
       "      <th>active_days_bin</th>\n",
       "      <th>user_count</th>\n",
       "      <th>avg_days_active</th>\n",
       "    </tr>\n",
       "  </thead>\n",
       "  <tbody>\n",
       "    <tr>\n",
       "      <th>0</th>\n",
       "      <td>1</td>\n",
       "      <td>921</td>\n",
       "      <td>4.072579</td>\n",
       "    </tr>\n",
       "    <tr>\n",
       "      <th>1</th>\n",
       "      <td>2</td>\n",
       "      <td>1006</td>\n",
       "      <td>4.072579</td>\n",
       "    </tr>\n",
       "    <tr>\n",
       "      <th>2</th>\n",
       "      <td>3</td>\n",
       "      <td>487</td>\n",
       "      <td>4.072579</td>\n",
       "    </tr>\n",
       "    <tr>\n",
       "      <th>3</th>\n",
       "      <td>4</td>\n",
       "      <td>1148</td>\n",
       "      <td>4.072579</td>\n",
       "    </tr>\n",
       "    <tr>\n",
       "      <th>4</th>\n",
       "      <td>5</td>\n",
       "      <td>104</td>\n",
       "      <td>4.072579</td>\n",
       "    </tr>\n",
       "    <tr>\n",
       "      <th>5</th>\n",
       "      <td>6</td>\n",
       "      <td>165</td>\n",
       "      <td>4.072579</td>\n",
       "    </tr>\n",
       "    <tr>\n",
       "      <th>6</th>\n",
       "      <td>7</td>\n",
       "      <td>135</td>\n",
       "      <td>4.072579</td>\n",
       "    </tr>\n",
       "    <tr>\n",
       "      <th>7</th>\n",
       "      <td>8</td>\n",
       "      <td>305</td>\n",
       "      <td>4.072579</td>\n",
       "    </tr>\n",
       "    <tr>\n",
       "      <th>8</th>\n",
       "      <td>9</td>\n",
       "      <td>52</td>\n",
       "      <td>4.072579</td>\n",
       "    </tr>\n",
       "    <tr>\n",
       "      <th>9</th>\n",
       "      <td>10</td>\n",
       "      <td>116</td>\n",
       "      <td>4.072579</td>\n",
       "    </tr>\n",
       "    <tr>\n",
       "      <th>10</th>\n",
       "      <td>11</td>\n",
       "      <td>30</td>\n",
       "      <td>4.072579</td>\n",
       "    </tr>\n",
       "    <tr>\n",
       "      <th>11</th>\n",
       "      <td>12</td>\n",
       "      <td>30</td>\n",
       "      <td>4.072579</td>\n",
       "    </tr>\n",
       "    <tr>\n",
       "      <th>12</th>\n",
       "      <td>13</td>\n",
       "      <td>9</td>\n",
       "      <td>4.072579</td>\n",
       "    </tr>\n",
       "    <tr>\n",
       "      <th>13</th>\n",
       "      <td>14</td>\n",
       "      <td>19</td>\n",
       "      <td>4.072579</td>\n",
       "    </tr>\n",
       "    <tr>\n",
       "      <th>14</th>\n",
       "      <td>15</td>\n",
       "      <td>7</td>\n",
       "      <td>4.072579</td>\n",
       "    </tr>\n",
       "    <tr>\n",
       "      <th>15</th>\n",
       "      <td>16</td>\n",
       "      <td>14</td>\n",
       "      <td>4.072579</td>\n",
       "    </tr>\n",
       "    <tr>\n",
       "      <th>16</th>\n",
       "      <td>17</td>\n",
       "      <td>15</td>\n",
       "      <td>4.072579</td>\n",
       "    </tr>\n",
       "    <tr>\n",
       "      <th>17</th>\n",
       "      <td>18</td>\n",
       "      <td>60</td>\n",
       "      <td>4.072579</td>\n",
       "    </tr>\n",
       "    <tr>\n",
       "      <th>18</th>\n",
       "      <td>19</td>\n",
       "      <td>6</td>\n",
       "      <td>4.072579</td>\n",
       "    </tr>\n",
       "    <tr>\n",
       "      <th>19</th>\n",
       "      <td>20</td>\n",
       "      <td>3</td>\n",
       "      <td>4.072579</td>\n",
       "    </tr>\n",
       "    <tr>\n",
       "      <th>20</th>\n",
       "      <td>21</td>\n",
       "      <td>4</td>\n",
       "      <td>4.072579</td>\n",
       "    </tr>\n",
       "    <tr>\n",
       "      <th>21</th>\n",
       "      <td>22</td>\n",
       "      <td>21</td>\n",
       "      <td>4.072579</td>\n",
       "    </tr>\n",
       "    <tr>\n",
       "      <th>22</th>\n",
       "      <td>23</td>\n",
       "      <td>0</td>\n",
       "      <td>4.072579</td>\n",
       "    </tr>\n",
       "    <tr>\n",
       "      <th>23</th>\n",
       "      <td>24</td>\n",
       "      <td>0</td>\n",
       "      <td>4.072579</td>\n",
       "    </tr>\n",
       "    <tr>\n",
       "      <th>24</th>\n",
       "      <td>25</td>\n",
       "      <td>0</td>\n",
       "      <td>4.072579</td>\n",
       "    </tr>\n",
       "    <tr>\n",
       "      <th>25</th>\n",
       "      <td>26</td>\n",
       "      <td>0</td>\n",
       "      <td>4.072579</td>\n",
       "    </tr>\n",
       "    <tr>\n",
       "      <th>26</th>\n",
       "      <td>27</td>\n",
       "      <td>0</td>\n",
       "      <td>4.072579</td>\n",
       "    </tr>\n",
       "    <tr>\n",
       "      <th>27</th>\n",
       "      <td>28</td>\n",
       "      <td>0</td>\n",
       "      <td>4.072579</td>\n",
       "    </tr>\n",
       "  </tbody>\n",
       "</table>\n",
       "</div>"
      ],
      "text/plain": [
       "   active_days_bin  user_count  avg_days_active\n",
       "0                1         921         4.072579\n",
       "1                2        1006         4.072579\n",
       "2                3         487         4.072579\n",
       "3                4        1148         4.072579\n",
       "4                5         104         4.072579\n",
       "5                6         165         4.072579\n",
       "6                7         135         4.072579\n",
       "7                8         305         4.072579\n",
       "8                9          52         4.072579\n",
       "9               10         116         4.072579\n",
       "10              11          30         4.072579\n",
       "11              12          30         4.072579\n",
       "12              13           9         4.072579\n",
       "13              14          19         4.072579\n",
       "14              15           7         4.072579\n",
       "15              16          14         4.072579\n",
       "16              17          15         4.072579\n",
       "17              18          60         4.072579\n",
       "18              19           6         4.072579\n",
       "19              20           3         4.072579\n",
       "20              21           4         4.072579\n",
       "21              22          21         4.072579\n",
       "22              23           0         4.072579\n",
       "23              24           0         4.072579\n",
       "24              25           0         4.072579\n",
       "25              26           0         4.072579\n",
       "26              27           0         4.072579\n",
       "27              28           0         4.072579"
      ]
     },
     "execution_count": 9,
     "metadata": {
      "tags": []
     },
     "output_type": "execute_result"
    }
   ],
   "source": [
    "dau_hist_L28 = tvct.calc_xau_hist(dau_decorated, \n",
    "                                  'day', \n",
    "                                  dau_decorated['activity_date'].max(), \n",
    "                                  window_days=28, \n",
    "                                  use_segment=False)\n",
    "dau_hist_L28"
   ]
  },
  {
   "cell_type": "markdown",
   "metadata": {
    "colab_type": "text",
    "id": "oVT4RrCZiHHd"
   },
   "source": [
    "#### 2.4.3 Calculate Rolling DAU/MAU Ratios over Time\n",
    "The DAU Histogram shown above helps us understand engagement during a fixed 28-day period. What if we could calculate its key attributes to look at engagement trends over time? We can do so by performing a similar analysis and looping through it on a daily basis. In doing so, we can build out a dataframe that contains engagement metrics for every 28-day period over the life of the company."
   ]
  },
  {
   "cell_type": "code",
   "execution_count": 10,
   "metadata": {
    "colab": {
     "base_uri": "https://localhost:8080/",
     "height": 648
    },
    "colab_type": "code",
    "id": "X_45LJrOv5b8",
    "outputId": "583fb948-8a54-46d0-e4b5-eca369b18edb"
   },
   "outputs": [
    {
     "name": "stdout",
     "output_type": "stream",
     "text": [
      "1372 total days to process...\n",
      "Processing day 0 of 1372...\n",
      "Processing day 100 of 1372...\n",
      "Processing day 200 of 1372...\n",
      "Processing day 300 of 1372...\n",
      "Processing day 400 of 1372...\n",
      "Processing day 500 of 1372...\n",
      "Processing day 600 of 1372...\n",
      "Processing day 700 of 1372...\n",
      "Processing day 800 of 1372...\n",
      "Processing day 900 of 1372...\n",
      "Processing day 1000 of 1372...\n",
      "Processing day 1100 of 1372...\n",
      "Processing day 1200 of 1372...\n",
      "Processing day 1300 of 1372...\n",
      "Finished processing all 1372 days!\n"
     ]
    },
    {
     "data": {
      "text/html": [
       "<div>\n",
       "<style scoped>\n",
       "    .dataframe tbody tr th:only-of-type {\n",
       "        vertical-align: middle;\n",
       "    }\n",
       "\n",
       "    .dataframe tbody tr th {\n",
       "        vertical-align: top;\n",
       "    }\n",
       "\n",
       "    .dataframe thead th {\n",
       "        text-align: right;\n",
       "    }\n",
       "</style>\n",
       "<table border=\"1\" class=\"dataframe\">\n",
       "  <thead>\n",
       "    <tr style=\"text-align: right;\">\n",
       "      <th></th>\n",
       "      <th>index</th>\n",
       "      <th>active_days</th>\n",
       "      <th>1d+ users</th>\n",
       "      <th>dau_window_ratio</th>\n",
       "      <th>window_frequency</th>\n",
       "      <th>2d+ users</th>\n",
       "      <th>2d+ users / total 28d users</th>\n",
       "      <th>4d+ users</th>\n",
       "      <th>4d+ users / total 28d users</th>\n",
       "      <th>8d+ users</th>\n",
       "      <th>8d+ users / total 28d users</th>\n",
       "      <th>12d+ users</th>\n",
       "      <th>12d+ users / total 28d users</th>\n",
       "      <th>window_end_dt</th>\n",
       "    </tr>\n",
       "  </thead>\n",
       "  <tbody>\n",
       "    <tr>\n",
       "      <th>0</th>\n",
       "      <td>0</td>\n",
       "      <td>18775</td>\n",
       "      <td>4690</td>\n",
       "      <td>0.142971</td>\n",
       "      <td>4.003198</td>\n",
       "      <td>3719</td>\n",
       "      <td>0.792964</td>\n",
       "      <td>2185</td>\n",
       "      <td>0.465885</td>\n",
       "      <td>682</td>\n",
       "      <td>0.145416</td>\n",
       "      <td>186</td>\n",
       "      <td>0.039659</td>\n",
       "      <td>2019-02-19</td>\n",
       "    </tr>\n",
       "    <tr>\n",
       "      <th>0</th>\n",
       "      <td>0</td>\n",
       "      <td>18789</td>\n",
       "      <td>4694</td>\n",
       "      <td>0.142956</td>\n",
       "      <td>4.002769</td>\n",
       "      <td>3711</td>\n",
       "      <td>0.790584</td>\n",
       "      <td>2187</td>\n",
       "      <td>0.465914</td>\n",
       "      <td>681</td>\n",
       "      <td>0.145079</td>\n",
       "      <td>186</td>\n",
       "      <td>0.039625</td>\n",
       "      <td>2019-02-20</td>\n",
       "    </tr>\n",
       "    <tr>\n",
       "      <th>0</th>\n",
       "      <td>0</td>\n",
       "      <td>18821</td>\n",
       "      <td>4695</td>\n",
       "      <td>0.143169</td>\n",
       "      <td>4.008733</td>\n",
       "      <td>3715</td>\n",
       "      <td>0.791267</td>\n",
       "      <td>2200</td>\n",
       "      <td>0.468584</td>\n",
       "      <td>677</td>\n",
       "      <td>0.144196</td>\n",
       "      <td>186</td>\n",
       "      <td>0.039617</td>\n",
       "      <td>2019-02-21</td>\n",
       "    </tr>\n",
       "    <tr>\n",
       "      <th>0</th>\n",
       "      <td>0</td>\n",
       "      <td>18844</td>\n",
       "      <td>4709</td>\n",
       "      <td>0.142918</td>\n",
       "      <td>4.001699</td>\n",
       "      <td>3720</td>\n",
       "      <td>0.789977</td>\n",
       "      <td>2214</td>\n",
       "      <td>0.470164</td>\n",
       "      <td>678</td>\n",
       "      <td>0.143980</td>\n",
       "      <td>186</td>\n",
       "      <td>0.039499</td>\n",
       "      <td>2019-02-22</td>\n",
       "    </tr>\n",
       "    <tr>\n",
       "      <th>0</th>\n",
       "      <td>0</td>\n",
       "      <td>18853</td>\n",
       "      <td>4712</td>\n",
       "      <td>0.142895</td>\n",
       "      <td>4.001061</td>\n",
       "      <td>3722</td>\n",
       "      <td>0.789898</td>\n",
       "      <td>2216</td>\n",
       "      <td>0.470289</td>\n",
       "      <td>678</td>\n",
       "      <td>0.143888</td>\n",
       "      <td>186</td>\n",
       "      <td>0.039474</td>\n",
       "      <td>2019-02-23</td>\n",
       "    </tr>\n",
       "    <tr>\n",
       "      <th>0</th>\n",
       "      <td>0</td>\n",
       "      <td>18871</td>\n",
       "      <td>4697</td>\n",
       "      <td>0.143488</td>\n",
       "      <td>4.017671</td>\n",
       "      <td>3722</td>\n",
       "      <td>0.792421</td>\n",
       "      <td>2221</td>\n",
       "      <td>0.472855</td>\n",
       "      <td>680</td>\n",
       "      <td>0.144773</td>\n",
       "      <td>188</td>\n",
       "      <td>0.040026</td>\n",
       "      <td>2019-02-24</td>\n",
       "    </tr>\n",
       "    <tr>\n",
       "      <th>0</th>\n",
       "      <td>0</td>\n",
       "      <td>18865</td>\n",
       "      <td>4691</td>\n",
       "      <td>0.143626</td>\n",
       "      <td>4.021531</td>\n",
       "      <td>3724</td>\n",
       "      <td>0.793861</td>\n",
       "      <td>2216</td>\n",
       "      <td>0.472394</td>\n",
       "      <td>674</td>\n",
       "      <td>0.143679</td>\n",
       "      <td>187</td>\n",
       "      <td>0.039864</td>\n",
       "      <td>2019-02-25</td>\n",
       "    </tr>\n",
       "    <tr>\n",
       "      <th>0</th>\n",
       "      <td>0</td>\n",
       "      <td>18868</td>\n",
       "      <td>4684</td>\n",
       "      <td>0.143864</td>\n",
       "      <td>4.028181</td>\n",
       "      <td>3719</td>\n",
       "      <td>0.793980</td>\n",
       "      <td>2219</td>\n",
       "      <td>0.473740</td>\n",
       "      <td>680</td>\n",
       "      <td>0.145175</td>\n",
       "      <td>186</td>\n",
       "      <td>0.039710</td>\n",
       "      <td>2019-02-26</td>\n",
       "    </tr>\n",
       "    <tr>\n",
       "      <th>0</th>\n",
       "      <td>0</td>\n",
       "      <td>18901</td>\n",
       "      <td>4675</td>\n",
       "      <td>0.144393</td>\n",
       "      <td>4.042995</td>\n",
       "      <td>3728</td>\n",
       "      <td>0.797433</td>\n",
       "      <td>2229</td>\n",
       "      <td>0.476791</td>\n",
       "      <td>681</td>\n",
       "      <td>0.145668</td>\n",
       "      <td>188</td>\n",
       "      <td>0.040214</td>\n",
       "      <td>2019-02-27</td>\n",
       "    </tr>\n",
       "    <tr>\n",
       "      <th>0</th>\n",
       "      <td>0</td>\n",
       "      <td>18966</td>\n",
       "      <td>4657</td>\n",
       "      <td>0.145449</td>\n",
       "      <td>4.072579</td>\n",
       "      <td>3736</td>\n",
       "      <td>0.802233</td>\n",
       "      <td>2243</td>\n",
       "      <td>0.481641</td>\n",
       "      <td>691</td>\n",
       "      <td>0.148379</td>\n",
       "      <td>188</td>\n",
       "      <td>0.040369</td>\n",
       "      <td>2019-02-28</td>\n",
       "    </tr>\n",
       "  </tbody>\n",
       "</table>\n",
       "</div>"
      ],
      "text/plain": [
       "   index  active_days  1d+ users  dau_window_ratio  window_frequency  \\\n",
       "0      0        18775       4690          0.142971          4.003198   \n",
       "0      0        18789       4694          0.142956          4.002769   \n",
       "0      0        18821       4695          0.143169          4.008733   \n",
       "0      0        18844       4709          0.142918          4.001699   \n",
       "0      0        18853       4712          0.142895          4.001061   \n",
       "0      0        18871       4697          0.143488          4.017671   \n",
       "0      0        18865       4691          0.143626          4.021531   \n",
       "0      0        18868       4684          0.143864          4.028181   \n",
       "0      0        18901       4675          0.144393          4.042995   \n",
       "0      0        18966       4657          0.145449          4.072579   \n",
       "\n",
       "   2d+ users  2d+ users / total 28d users  4d+ users  \\\n",
       "0       3719                     0.792964       2185   \n",
       "0       3711                     0.790584       2187   \n",
       "0       3715                     0.791267       2200   \n",
       "0       3720                     0.789977       2214   \n",
       "0       3722                     0.789898       2216   \n",
       "0       3722                     0.792421       2221   \n",
       "0       3724                     0.793861       2216   \n",
       "0       3719                     0.793980       2219   \n",
       "0       3728                     0.797433       2229   \n",
       "0       3736                     0.802233       2243   \n",
       "\n",
       "   4d+ users / total 28d users  8d+ users  8d+ users / total 28d users  \\\n",
       "0                     0.465885        682                     0.145416   \n",
       "0                     0.465914        681                     0.145079   \n",
       "0                     0.468584        677                     0.144196   \n",
       "0                     0.470164        678                     0.143980   \n",
       "0                     0.470289        678                     0.143888   \n",
       "0                     0.472855        680                     0.144773   \n",
       "0                     0.472394        674                     0.143679   \n",
       "0                     0.473740        680                     0.145175   \n",
       "0                     0.476791        681                     0.145668   \n",
       "0                     0.481641        691                     0.148379   \n",
       "\n",
       "   12d+ users  12d+ users / total 28d users window_end_dt  \n",
       "0         186                      0.039659    2019-02-19  \n",
       "0         186                      0.039625    2019-02-20  \n",
       "0         186                      0.039617    2019-02-21  \n",
       "0         186                      0.039499    2019-02-22  \n",
       "0         186                      0.039474    2019-02-23  \n",
       "0         188                      0.040026    2019-02-24  \n",
       "0         187                      0.039864    2019-02-25  \n",
       "0         186                      0.039710    2019-02-26  \n",
       "0         188                      0.040214    2019-02-27  \n",
       "0         188                      0.040369    2019-02-28  "
      ]
     },
     "execution_count": 10,
     "metadata": {
      "tags": []
     },
     "output_type": "execute_result"
    }
   ],
   "source": [
    "# Run rolling_dau_mau and show the last ten rows (the most recent ones)\n",
    "rolling_dau_mau = tvct.create_xau_window_df(dau_decorated, breakouts = [2, 4, 8, 12])\n",
    "rolling_dau_mau.tail(10)"
   ]
  },
  {
   "cell_type": "markdown",
   "metadata": {
    "colab_type": "text",
    "id": "hzG-fUwkyM9K"
   },
   "source": [
    "## 3. Load the transformed data into Google Sheets \n",
    "**Note**: For a more detailed discussion about loading data into Google Sheets, complete with inline code, visit [Section 3 of Mini-Pipeline: Cohort Analysis](https://colab.research.google.com/drive/1oYy-wJl6VZFgOsv8uw7iGChQxUjrR5rf#scrollTo=hzG-fUwkyM9K)\n",
    "### 3.1 Establish connection to Google Sheets for writing output files\n",
    "The first time you run the cell below, or after some time of inactivity, you will be asked to click on a link. That link will take you to a new tab that will authorize this script to write to Google Sheets spreadsheets in your Google Account. To enable this feature, copy the code you get into the box below and hit Enter."
   ]
  },
  {
   "cell_type": "code",
   "execution_count": 0,
   "metadata": {
    "colab": {},
    "colab_type": "code",
    "id": "6XdHduQeyNSF"
   },
   "outputs": [],
   "source": [
    "gc = tvcl.google_authenticate()"
   ]
  },
  {
   "cell_type": "code",
   "execution_count": 0,
   "metadata": {
    "colab": {},
    "colab_type": "code",
    "id": "GwwRwkfizC7Y"
   },
   "outputs": [],
   "source": [
    "### Be sure to set this value to refer to your Google Sheets workbook\n",
    "GOOGLE_SHEET_KEY = '1-XnO_eWkRwX-E1fiA2Jkbe3kJvoyoPFsdeW7vnF6zS0' "
   ]
  },
  {
   "cell_type": "code",
   "execution_count": 13,
   "metadata": {
    "colab": {
     "base_uri": "https://localhost:8080/",
     "height": 34
    },
    "colab_type": "code",
    "id": "6nn3Co-B9osp",
    "outputId": "aa9bf909-c4c8-4e2a-e648-f2ace57e4809"
   },
   "outputs": [
    {
     "name": "stdout",
     "output_type": "stream",
     "text": [
      "https://docs.google.com/spreadsheets/d/1-XnO_eWkRwX-E1fiA2Jkbe3kJvoyoPFsdeW7vnF6zS0\n"
     ]
    }
   ],
   "source": [
    "print('https://docs.google.com/spreadsheets/d/' + GOOGLE_SHEET_KEY)"
   ]
  },
  {
   "cell_type": "markdown",
   "metadata": {
    "colab_type": "text",
    "id": "FTl5QTpDqwtS"
   },
   "source": [
    "### 3.2 Write the output files to Google Sheets"
   ]
  },
  {
   "cell_type": "code",
   "execution_count": 0,
   "metadata": {
    "colab": {},
    "colab_type": "code",
    "id": "eib1Er8O3AuC"
   },
   "outputs": [],
   "source": [
    "### Execute this function to write the data in the dataframe to the google sheet\n",
    "### and tab name specified using the gc Google credentials\n",
    "tvcl.write_to_google_sheet(user_ga_with_ratios, \n",
    "                           GOOGLE_SHEET_KEY, \n",
    "                           'MAU Growth Accounting', \n",
    "                           gc)"
   ]
  },
  {
   "cell_type": "code",
   "execution_count": 0,
   "metadata": {
    "colab": {},
    "colab_type": "code",
    "id": "vN8gOb5eqhzF"
   },
   "outputs": [],
   "source": [
    "### Execute this function to write the data in the dataframe to the google sheet\n",
    "### and tab name specified using the gc Google credentials\n",
    "tvcl.write_to_google_sheet(mau_cohorts, \n",
    "                           GOOGLE_SHEET_KEY, \n",
    "                           'MAU Retention by Cohort', \n",
    "                           gc)"
   ]
  },
  {
   "cell_type": "code",
   "execution_count": 0,
   "metadata": {
    "colab": {},
    "colab_type": "code",
    "id": "_ae4mpWC0kga"
   },
   "outputs": [],
   "source": [
    "### Execute this function to write the data in the dataframe to the google sheet\n",
    "### and tab name specified using the gc Google credentials\n",
    "tvcl.write_to_google_sheet(dau_hist_L28, \n",
    "                           GOOGLE_SHEET_KEY, \n",
    "                           'DAU Histogram L28', \n",
    "                           gc)"
   ]
  },
  {
   "cell_type": "code",
   "execution_count": 0,
   "metadata": {
    "colab": {},
    "colab_type": "code",
    "id": "9InTAKfP_ndH"
   },
   "outputs": [],
   "source": [
    "### Execute this function to write the data in the dataframe to the google sheet\n",
    "### and tab name specified using the gc Google credentials\n",
    "tvcl.write_to_google_sheet(rolling_dau_mau, \n",
    "                           GOOGLE_SHEET_KEY, \n",
    "                           'Rolling DAU/MAU', \n",
    "                           gc)"
   ]
  },
  {
   "cell_type": "markdown",
   "metadata": {
    "colab_type": "text",
    "id": "i1ma28rndWGJ"
   },
   "source": [
    "## 4. Visualize insights in Google Data Studio\n",
    "A Google DataStudio dashboard preconfigured to read from the Google Sheet created above to visualize the data is [available at this link](https://datastudio.google.com/open/1xjS__Q6ZUXuUUARkgRvY4spYUw1ePksV) or by clicking on the Google DataStudio logo at the bottom of the chart embedded below. It is available in read-only mode for you to copy, link to your own Google Sheet tabs, and see your own data visualized.\n",
    "### 4.1 Show MAU\n",
    "The first chart shows MAU with the three main active categories broken out:\n",
    "\n",
    "- Retained Users are in blue\n",
    "- New Users are in light green\n",
    "- Resurrected Users are in darker green\n",
    "\n",
    "Together these three categories add up to the total MAU for each month. The line snaking through the chart is the compound monthly growth rate calculated over a 12-month period (CMGR12). We see that it starts off high when the growth starts from a low base. But over time, the CMGR12 stabilizes around 4%. The User GMGR12 Target line of 10% serves as an example of a healthy growth rate for a successful startup, though this can vary depending on the situation."
   ]
  },
  {
   "cell_type": "code",
   "execution_count": 23,
   "metadata": {
    "colab": {
     "base_uri": "https://localhost:8080/",
     "height": 471
    },
    "colab_type": "code",
    "id": "nXQTSuX3do_t",
    "outputId": "f39cd1e9-5ede-4de2-e462-cb718ef37834"
   },
   "outputs": [
    {
     "data": {
      "text/html": [
       "\n",
       "        <iframe\n",
       "            width=\"600\"\n",
       "            height=\"450\"\n",
       "            src=\"https://datastudio.google.com/embed/reporting/1xjS__Q6ZUXuUUARkgRvY4spYUw1ePksV/page/YVKk\"\n",
       "            frameborder=\"0\"\n",
       "            allowfullscreen\n",
       "        ></iframe>\n",
       "        "
      ],
      "text/plain": [
       "<IPython.lib.display.IFrame at 0x7fe2e71b0908>"
      ]
     },
     "execution_count": 23,
     "metadata": {
      "tags": []
     },
     "output_type": "execute_result"
    }
   ],
   "source": [
    "IFrame('https://datastudio.google.com/embed/reporting/1xjS__Q6ZUXuUUARkgRvY4spYUw1ePksV/page/YVKk', \n",
    "       width=600, \n",
    "       height=450)"
   ]
  },
  {
   "cell_type": "markdown",
   "metadata": {
    "colab_type": "text",
    "id": "mmk09gsRdySx"
   },
   "source": [
    "### 4.2 Show MAU Growth Accounting\n",
    "The chart below is similar to the last one in that it still shows the same New and Resurrected user counts in light green and darker green, respectively. This chart removes the retained user count in favor of churned users in orange (expressed as a negative number). It also removes the CMGR12 line in favor of two new lines: the User Quick Ratio (in black) and MoM User Retention rate (in blue). \n",
    "\n",
    "- User Quick Ratio = -1 * (New Users + Resurrected Users) / Churned Users\n",
    "  - In other words, it is the ratio of the green bars at the top and the orange bar on the bottom\n",
    "  - The horizontal line where the Quick Ratio = 1 serves as the demarcation line between growth and shrinkage\n",
    "  - A Quick Ratio > 1 means that MAUs grew from last month to this month\n",
    "  - A Quick Ratio < 1 means that MAUs shrank from last month to this month\n",
    "  - For more about the Quick Ratio, visit our blog post [Quick Ratio as a Shortcut to Understand Product Growth](https://medium.com/theventurecity/quick-ratio-as-a-shortcut-to-understand-product-growth-ae60212bd371)\n",
    "- MoM Retention Rate = Retained Users / Users BOP\n",
    "  - Users BOP (\"beginning of period\") are the same as last month's users as calculated in the calc_user_ga_ratios function"
   ]
  },
  {
   "cell_type": "code",
   "execution_count": 24,
   "metadata": {
    "colab": {
     "base_uri": "https://localhost:8080/",
     "height": 471
    },
    "colab_type": "code",
    "id": "4Go-_-16d1Ht",
    "outputId": "869f8290-8f63-47c7-d341-5914e852337d"
   },
   "outputs": [
    {
     "data": {
      "text/html": [
       "\n",
       "        <iframe\n",
       "            width=\"600\"\n",
       "            height=\"450\"\n",
       "            src=\"https://datastudio.google.com/embed/reporting/1xjS__Q6ZUXuUUARkgRvY4spYUw1ePksV/page/7eKk\"\n",
       "            frameborder=\"0\"\n",
       "            allowfullscreen\n",
       "        ></iframe>\n",
       "        "
      ],
      "text/plain": [
       "<IPython.lib.display.IFrame at 0x7fe2e71b0828>"
      ]
     },
     "execution_count": 24,
     "metadata": {
      "tags": []
     },
     "output_type": "execute_result"
    }
   ],
   "source": [
    "IFrame('https://datastudio.google.com/embed/reporting/1xjS__Q6ZUXuUUARkgRvY4spYUw1ePksV/page/7eKk', \n",
    "       width=600, \n",
    "       height=450)"
   ]
  },
  {
   "cell_type": "markdown",
   "metadata": {
    "colab_type": "text",
    "id": "nyJP7aZ2eEHQ"
   },
   "source": [
    "### 4.3 Monthly Cohort User Retention\n",
    "One way to think about cohort user retention is based on the fact that, typically, not all users are retained from Month 0 to Month 1, and then to Month 2, 3, 4, etc. The chart below depicts this in the downward curve approaching. If you mouseover the bars, we can see that the January 2018 cohort at the farthest right is at 23.7% user retention in Month 13. Compare that to the 60.94% figure for that same cohort in Month 1.\n",
    "\n",
    "Sometimes this data is depicted as downward curving lines, one for each cohort. We prefer this visual because (a) the lines often end up looking jumbled and spaghetti-like; and (b) it allows us to see the trend in each Months Since First's retention. For example, the most recent Month 1 retention of 66.55% for the January 2019 cohort is down from the Month 1 peak of 72.8% percent for the July 2018 cohort. In this way, we can see the general downward slope that the spaghetti lines would give us, but also see the trends within each Months Since First, for a superior visual."
   ]
  },
  {
   "cell_type": "code",
   "execution_count": 25,
   "metadata": {
    "colab": {
     "base_uri": "https://localhost:8080/",
     "height": 471
    },
    "colab_type": "code",
    "id": "YYMx0Cx0eHTs",
    "outputId": "8bf05783-8987-44fa-d0d1-8b43dcc130fd"
   },
   "outputs": [
    {
     "data": {
      "text/html": [
       "\n",
       "        <iframe\n",
       "            width=\"600\"\n",
       "            height=\"450\"\n",
       "            src=\"https://datastudio.google.com/embed/reporting/1xjS__Q6ZUXuUUARkgRvY4spYUw1ePksV/page/EOyj\"\n",
       "            frameborder=\"0\"\n",
       "            allowfullscreen\n",
       "        ></iframe>\n",
       "        "
      ],
      "text/plain": [
       "<IPython.lib.display.IFrame at 0x7fe2e71b0ba8>"
      ]
     },
     "execution_count": 25,
     "metadata": {
      "tags": []
     },
     "output_type": "execute_result"
    }
   ],
   "source": [
    "IFrame('https://datastudio.google.com/embed/reporting/1xjS__Q6ZUXuUUARkgRvY4spYUw1ePksV/page/EOyj', \n",
    "       width=600, \n",
    "       height=450)"
   ]
  },
  {
   "cell_type": "markdown",
   "metadata": {
    "colab_type": "text",
    "id": "OLjldusdeOOZ"
   },
   "source": [
    "### 4.4 Cumulative Customer Revenue LTV by Monthly Cohort\n",
    "The visual below shows the cumulative inc_amt *per original cohort customer* that each cohort has generated in the time it has been active. These lines give a look at how well a group of ServBiz's users keeps generating revenue after they are initially acquired. This gives us an empirical way to look at customer long-term value (LTV) over a range of possible scenarios. For example, if you mouseover 16 Months Since First in the chart below, the four cohorts that have been around that long range from `$`440.47 to `$`588.87 per cohort customer. We can use that as a 16-month LTV range for projection or for calculating LTV-to-CAC ratio.\n",
    "\n",
    "Another feature of the curves below is that, while they are slighly bending downward, the rate of change in the slope is very gradual. This implies that ServBiz's customers are active for a long period of time, meaning that the time horizon for calculating LTV may be extended and that these customers are quite value in the long-term."
   ]
  },
  {
   "cell_type": "code",
   "execution_count": 26,
   "metadata": {
    "colab": {
     "base_uri": "https://localhost:8080/",
     "height": 471
    },
    "colab_type": "code",
    "id": "n0BXCiMKeVvs",
    "outputId": "b1953697-1e57-41be-920f-329b145f8219"
   },
   "outputs": [
    {
     "data": {
      "text/html": [
       "\n",
       "        <iframe\n",
       "            width=\"600\"\n",
       "            height=\"450\"\n",
       "            src=\"https://datastudio.google.com/embed/reporting/1xjS__Q6ZUXuUUARkgRvY4spYUw1ePksV/page/pVBk\"\n",
       "            frameborder=\"0\"\n",
       "            allowfullscreen\n",
       "        ></iframe>\n",
       "        "
      ],
      "text/plain": [
       "<IPython.lib.display.IFrame at 0x7fe2e71b0978>"
      ]
     },
     "execution_count": 26,
     "metadata": {
      "tags": []
     },
     "output_type": "execute_result"
    }
   ],
   "source": [
    "IFrame('https://datastudio.google.com/embed/reporting/1xjS__Q6ZUXuUUARkgRvY4spYUw1ePksV/page/pVBk', \n",
    "       width=600, \n",
    "       height=450)"
   ]
  },
  {
   "cell_type": "markdown",
   "metadata": {
    "colab_type": "text",
    "id": "XgoZiaUa8Txs"
   },
   "source": [
    "### 4.5 User DAU Histogram\n",
    "The chart below shows the number of users in each active days bin to illustrate the distribution of usage. The more users come back to the service on multiple days, the more engaged they are. We see that the highest bar is at 4 active days, or once per week. We also see another, smaller spike at 8 active days, or twice per week. The 4.1 figure for \"Average Days Active in Last 28\" is another way of expressing the DAU/MAU ratio. The DAU/MAU ratio in this case is 4.1/28, or 0.146, or 14.6%. That means users are active on 14.6% percent of possible days. We think it is easier to understand what this number means by thinking of it as average active days out of 28 rather than as a ratio/percentage."
   ]
  },
  {
   "cell_type": "code",
   "execution_count": 19,
   "metadata": {
    "colab": {
     "base_uri": "https://localhost:8080/",
     "height": 471
    },
    "colab_type": "code",
    "id": "DLaOgza7yxww",
    "outputId": "a8dbc98d-a605-4346-8850-b8e5967c6649"
   },
   "outputs": [
    {
     "data": {
      "text/html": [
       "\n",
       "        <iframe\n",
       "            width=\"600\"\n",
       "            height=\"450\"\n",
       "            src=\"https://datastudio.google.com/embed/reporting/1xjS__Q6ZUXuUUARkgRvY4spYUw1ePksV/page/IEWi\"\n",
       "            frameborder=\"0\"\n",
       "            allowfullscreen\n",
       "        ></iframe>\n",
       "        "
      ],
      "text/plain": [
       "<IPython.lib.display.IFrame at 0x7fe2e71b0940>"
      ]
     },
     "execution_count": 19,
     "metadata": {
      "tags": []
     },
     "output_type": "execute_result"
    }
   ],
   "source": [
    "IFrame('https://datastudio.google.com/embed/reporting/1xjS__Q6ZUXuUUARkgRvY4spYUw1ePksV/page/IEWi', \n",
    "       width=600, \n",
    "       height=450)"
   ]
  },
  {
   "cell_type": "markdown",
   "metadata": {
    "colab_type": "text",
    "id": "gGlGGagcBIoQ"
   },
   "source": [
    "### 4.6 Rolling Active Days per 28\n",
    "The chart below takes the 4.1 Average Active Days in Last 28 from the last chart--which was calculated from the most recent date in the event log, and plots the trend of that number over time. By looking at this number's trend, we can judge whether engagement is getting better, getting worse, or staying the same. In the case of ServBiz, engagement has leveled out around 4.0 over the last year-and-a-half or so after showing steady improvement in the first few years of the business. The exception is the regular seasonal dips when usage frequency wanes for a few weeks."
   ]
  },
  {
   "cell_type": "code",
   "execution_count": 20,
   "metadata": {
    "colab": {
     "base_uri": "https://localhost:8080/",
     "height": 471
    },
    "colab_type": "code",
    "id": "apftIzyMBgbm",
    "outputId": "5d4c3912-2219-4f5e-cdf3-3c4e658898de"
   },
   "outputs": [
    {
     "data": {
      "text/html": [
       "\n",
       "        <iframe\n",
       "            width=\"600\"\n",
       "            height=\"450\"\n",
       "            src=\"https://datastudio.google.com/embed/reporting/1xjS__Q6ZUXuUUARkgRvY4spYUw1ePksV/page/hXXk\"\n",
       "            frameborder=\"0\"\n",
       "            allowfullscreen\n",
       "        ></iframe>\n",
       "        "
      ],
      "text/plain": [
       "<IPython.lib.display.IFrame at 0x7fe2e71b0710>"
      ]
     },
     "execution_count": 20,
     "metadata": {
      "tags": []
     },
     "output_type": "execute_result"
    }
   ],
   "source": [
    "IFrame('https://datastudio.google.com/embed/reporting/1xjS__Q6ZUXuUUARkgRvY4spYUw1ePksV/page/hXXk', \n",
    "       width=600, \n",
    "       height=450)"
   ]
  },
  {
   "cell_type": "markdown",
   "metadata": {
    "colab_type": "text",
    "id": "aZw6WP3pKqOV"
   },
   "source": [
    "### 4.7 Rolling 28-Day Multi-Day Users\n",
    "A richer display of the distibution of active usage in effect combines the histogram from 4.1 above with the rolling trends from 4.2. In effect, we are turning the histogram on its side and dragging it through time to see the percentage of total active users above various thresholds. In the example below we have plotted four lines. They show the percentage of active users with...\n",
    "\n",
    "- 2+ active days out of the previous 28, or once at least every other week (about 80% in the most recent 28-day window; see table below the chart)\n",
    "- 4+ active days, or at least once a week (about 48%)\n",
    "- 8+ active days, or at least twice a week (about 15%)\n",
    "- 12+ active days, or at least 3x per week (about 4%)\n",
    "\n",
    "Going with more than 12 days would make for a lousy visual with a horizontal line bouncing off zero.\n",
    "\n",
    "In this visual we see that the percentage of users with 2+ days out of 28 continues to increase a bit over time. It is the more frequent categories (4+, 8+) that are flat and dragging down the overall average seen in 4.2."
   ]
  },
  {
   "cell_type": "code",
   "execution_count": 21,
   "metadata": {
    "colab": {
     "base_uri": "https://localhost:8080/",
     "height": 471
    },
    "colab_type": "code",
    "id": "GOuK4qRHKq8C",
    "outputId": "80856a02-5a94-4aeb-805a-9c24f54151e8"
   },
   "outputs": [
    {
     "data": {
      "text/html": [
       "\n",
       "        <iframe\n",
       "            width=\"600\"\n",
       "            height=\"450\"\n",
       "            src=\"https://datastudio.google.com/embed/reporting/1xjS__Q6ZUXuUUARkgRvY4spYUw1ePksV/page/qdXk\"\n",
       "            frameborder=\"0\"\n",
       "            allowfullscreen\n",
       "        ></iframe>\n",
       "        "
      ],
      "text/plain": [
       "<IPython.lib.display.IFrame at 0x7fe2e71b0e80>"
      ]
     },
     "execution_count": 21,
     "metadata": {
      "tags": []
     },
     "output_type": "execute_result"
    }
   ],
   "source": [
    "IFrame('https://datastudio.google.com/embed/reporting/1xjS__Q6ZUXuUUARkgRvY4spYUw1ePksV/page/qdXk', \n",
    "       width=600, \n",
    "       height=450)"
   ]
  },
  {
   "cell_type": "code",
   "execution_count": 22,
   "metadata": {
    "colab": {
     "base_uri": "https://localhost:8080/",
     "height": 96
    },
    "colab_type": "code",
    "id": "fJ1y3tnLNNda",
    "outputId": "b922994d-860a-4089-9e8a-d84b42d8a51f"
   },
   "outputs": [
    {
     "data": {
      "text/html": [
       "<div>\n",
       "<style scoped>\n",
       "    .dataframe tbody tr th:only-of-type {\n",
       "        vertical-align: middle;\n",
       "    }\n",
       "\n",
       "    .dataframe tbody tr th {\n",
       "        vertical-align: top;\n",
       "    }\n",
       "\n",
       "    .dataframe thead th {\n",
       "        text-align: right;\n",
       "    }\n",
       "</style>\n",
       "<table border=\"1\" class=\"dataframe\">\n",
       "  <thead>\n",
       "    <tr style=\"text-align: right;\">\n",
       "      <th></th>\n",
       "      <th>index</th>\n",
       "      <th>active_days</th>\n",
       "      <th>1d+ users</th>\n",
       "      <th>dau_window_ratio</th>\n",
       "      <th>window_frequency</th>\n",
       "      <th>2d+ users</th>\n",
       "      <th>2d+ users / total 28d users</th>\n",
       "      <th>4d+ users</th>\n",
       "      <th>4d+ users / total 28d users</th>\n",
       "      <th>8d+ users</th>\n",
       "      <th>8d+ users / total 28d users</th>\n",
       "      <th>12d+ users</th>\n",
       "      <th>12d+ users / total 28d users</th>\n",
       "      <th>window_end_dt</th>\n",
       "    </tr>\n",
       "  </thead>\n",
       "  <tbody>\n",
       "    <tr>\n",
       "      <th>0</th>\n",
       "      <td>0</td>\n",
       "      <td>18966</td>\n",
       "      <td>4657</td>\n",
       "      <td>0.145449</td>\n",
       "      <td>4.072579</td>\n",
       "      <td>3736</td>\n",
       "      <td>0.802233</td>\n",
       "      <td>2243</td>\n",
       "      <td>0.481641</td>\n",
       "      <td>691</td>\n",
       "      <td>0.148379</td>\n",
       "      <td>188</td>\n",
       "      <td>0.040369</td>\n",
       "      <td>2019-02-28</td>\n",
       "    </tr>\n",
       "  </tbody>\n",
       "</table>\n",
       "</div>"
      ],
      "text/plain": [
       "   index  active_days  1d+ users  dau_window_ratio  window_frequency  \\\n",
       "0      0        18966       4657          0.145449          4.072579   \n",
       "\n",
       "   2d+ users  2d+ users / total 28d users  4d+ users  \\\n",
       "0       3736                     0.802233       2243   \n",
       "\n",
       "   4d+ users / total 28d users  8d+ users  8d+ users / total 28d users  \\\n",
       "0                     0.481641        691                     0.148379   \n",
       "\n",
       "   12d+ users  12d+ users / total 28d users window_end_dt  \n",
       "0         188                      0.040369    2019-02-28  "
      ]
     },
     "execution_count": 22,
     "metadata": {
      "tags": []
     },
     "output_type": "execute_result"
    }
   ],
   "source": [
    "rolling_dau_mau.tail(1)"
   ]
  },
  {
   "cell_type": "code",
   "execution_count": 0,
   "metadata": {
    "colab": {},
    "colab_type": "code",
    "id": "MEczC7003zvl"
   },
   "outputs": [],
   "source": []
  }
 ],
 "metadata": {
  "colab": {
   "collapsed_sections": [],
   "include_colab_link": true,
   "name": "Full Pipeline",
   "provenance": [],
   "version": "0.3.2"
  },
  "kernelspec": {
   "display_name": "Python 3 (ipykernel)",
   "language": "python",
   "name": "python3"
  },
  "language_info": {
   "codemirror_mode": {
    "name": "ipython",
    "version": 3
   },
   "file_extension": ".py",
   "mimetype": "text/x-python",
   "name": "python",
   "nbconvert_exporter": "python",
   "pygments_lexer": "ipython3",
   "version": "3.11.3"
  }
 },
 "nbformat": 4,
 "nbformat_minor": 1
}
